{
 "cells": [
  {
   "cell_type": "markdown",
   "id": "0c9bde6f-4516-4bfe-906a-beb0bef63c0a",
   "metadata": {},
   "source": [
    "# Pairwise Similarity"
   ]
  },
  {
   "cell_type": "code",
   "execution_count": 1,
   "id": "85994f5a-7324-490f-bf2a-16d46b7b348d",
   "metadata": {
    "execution": {
     "iopub.execute_input": "2022-06-29T22:08:29.220888Z",
     "iopub.status.busy": "2022-06-29T22:08:29.220561Z",
     "iopub.status.idle": "2022-06-29T22:08:32.490398Z",
     "shell.execute_reply": "2022-06-29T22:08:32.489762Z",
     "shell.execute_reply.started": "2022-06-29T22:08:29.220808Z"
    }
   },
   "outputs": [],
   "source": [
    "import torch\n",
    "import torch.nn as nn\n",
    "\n",
    "input1 = torch.randn(100, 128)\n",
    "input2 = torch.randn(100, 128)\n",
    "cos = nn.CosineSimilarity(dim=1, eps=1e-6)\n",
    "output = cos(input1, input2)"
   ]
  },
  {
   "cell_type": "code",
   "execution_count": null,
   "id": "3c2b9530-134f-4d2e-8e85-589a745b1e6a",
   "metadata": {},
   "outputs": [],
   "source": [
    "import random\n",
    "from PIL import Image\n",
    "import torchvision\n",
    "import torchvision.datasets as datasets\n",
    "import torchvision.transforms as transforms\n",
    "from torch.utils.data import DataLoader, Dataset\n",
    "import torchvision.utils\n",
    "import torch\n",
    "import torch.nn as nn\n",
    "\n",
    "class SiameseDataset(Dataset):\n",
    "    def __init__(self,folder,transform=None):\n",
    "        self.folder = folder        #type: torchvision.datasets.ImageFolder\n",
    "        self.transform = transform  #type: torchvision.transforms\n",
    "        \n",
    "    def __getitem__(self,index):\n",
    "        #Random image set as anchor\n",
    "        image0_tuple = random.choice(self.folder.imgs)\n",
    "\n",
    "        random_val = random.randint(0,1) \n",
    "        if random_val: #If random_val = 1, output a positive class sample\n",
    "            while True:\n",
    "                #Find \"positive\" Image\n",
    "                image1_tuple = random.choice(self.folder.imgs) \n",
    "                if image0_tuple[1] == image1_tuple[1]:\n",
    "                    break\n",
    "        else: #If random_val = 0, output a negative class sample\n",
    "            while True:\n",
    "                #Find \"negative\" Image\n",
    "                image1_tuple = random.choice(self.folder.imgs) \n",
    "                if image0_tuple[1] != image1_tuple[1]:\n",
    "                    break\n",
    "\n",
    "        image0 = Image.open(image0_tuple[0])\n",
    "        image1 = Image.open(image1_tuple[0])\n",
    "\n",
    "        image0 = image0.convert(\"L\")\n",
    "        image1 = image1.convert(\"L\")\n",
    "\n",
    "        if self.transform is not None:\n",
    "            image0 = self.transform(image0)\n",
    "            image1 = self.transform(image1)\n",
    "        \n",
    "        #Return the two images along with the information of whether they belong to the same class\n",
    "        return image0, image1, int(random_val)\n",
    "    \n",
    "    def __len__(self):\n",
    "        return len(self.folder.imgs)"
   ]
  },
  {
   "cell_type": "markdown",
   "id": "2dd77d11-37cb-4bc3-b70f-e216ff7e306a",
   "metadata": {},
   "source": [
    "# Triple loss\n"
   ]
  },
  {
   "cell_type": "code",
   "execution_count": 2,
   "id": "01933fc9-979e-4c8c-a44d-330721262c82",
   "metadata": {
    "execution": {
     "iopub.execute_input": "2022-06-29T22:08:32.492355Z",
     "iopub.status.busy": "2022-06-29T22:08:32.491842Z",
     "iopub.status.idle": "2022-06-29T22:08:32.554296Z",
     "shell.execute_reply": "2022-06-29T22:08:32.553574Z",
     "shell.execute_reply.started": "2022-06-29T22:08:32.492330Z"
    }
   },
   "outputs": [],
   "source": [
    "import torch\n",
    "import torch.nn as nn\n",
    "\n",
    "triplet_loss = nn.TripletMarginLoss(margin=1.0, p=2)\n",
    "anchor = torch.randn(100, 128, requires_grad=True)\n",
    "positive = torch.randn(100, 128, requires_grad=True)\n",
    "negative = torch.randn(100, 128, requires_grad=True)\n",
    "output = triplet_loss(anchor, positive, negative)\n",
    "output.backward()"
   ]
  },
  {
   "cell_type": "code",
   "execution_count": 4,
   "id": "7258fe9f-daa5-41db-aeaf-42df576239ee",
   "metadata": {
    "execution": {
     "iopub.execute_input": "2022-06-29T22:09:25.203639Z",
     "iopub.status.busy": "2022-06-29T22:09:25.202787Z",
     "iopub.status.idle": "2022-06-29T22:09:25.212214Z",
     "shell.execute_reply": "2022-06-29T22:09:25.211699Z",
     "shell.execute_reply.started": "2022-06-29T22:09:25.203578Z"
    }
   },
   "outputs": [],
   "source": [
    "import random\n",
    "from PIL import Image\n",
    "import torchvision\n",
    "import torchvision.datasets as datasets\n",
    "import torchvision.transforms as transforms\n",
    "from torch.utils.data import DataLoader, Dataset\n",
    "import torchvision.utils\n",
    "import torch\n",
    "import torch.nn as nn\n",
    "\n",
    "class SiameseDataset(Dataset):\n",
    "    def __init__(self,folder,transform=None):\n",
    "        self.folder = folder        #type: torchvision.datasets.ImageFolder\n",
    "        self.transform = transform  #type: torchvision.transforms\n",
    "        \n",
    "    def __getitem__(self,index):\n",
    "        #Random image set as anchor\n",
    "        anchor_tuple = random.choice(self.folder.imgs)\n",
    "        \n",
    "        while True:\n",
    "            #Find \"positive\" Image\n",
    "            positive_tuple = random.choice(self.folder.imgs) \n",
    "            if anchor_tuple[1] == positive_tuple[1]:\n",
    "                break\n",
    "\n",
    "        while True:\n",
    "            #Find \"negative\" Image\n",
    "            negative_tuple = random.choice(self.folder.imgs) \n",
    "            if anchor_tuple[1] != negative_tuple[1]:\n",
    "                break\n",
    "\n",
    "        anchor = Image.open(anchor_tuple[0])\n",
    "        positive = Image.open(positive_tuple[0])\n",
    "        negative = Image.open(negative_tuple[0])\n",
    "\n",
    "        anchor = anchor.convert(\"L\")\n",
    "        positive = positive.convert(\"L\")\n",
    "        negative = negative.convert(\"L\")\n",
    "\n",
    "        if self.transform is not None:\n",
    "            anchor = self.transform(anchor)\n",
    "            positive = self.transform(positive)\n",
    "            negative = self.transform(negative)\n",
    "        \n",
    "        return anchor, positive, negative\n",
    "    \n",
    "    def __len__(self):\n",
    "        return len(self.folder.imgs)"
   ]
  },
  {
   "cell_type": "code",
   "execution_count": null,
   "id": "217d02c3-7b51-45bf-8ace-d803b796e393",
   "metadata": {},
   "outputs": [],
   "source": []
  }
 ],
 "metadata": {
  "kernelspec": {
   "display_name": "Python 3 (ipykernel)",
   "language": "python",
   "name": "python3"
  },
  "language_info": {
   "codemirror_mode": {
    "name": "ipython",
    "version": 3
   },
   "file_extension": ".py",
   "mimetype": "text/x-python",
   "name": "python",
   "nbconvert_exporter": "python",
   "pygments_lexer": "ipython3",
   "version": "3.8.12"
  }
 },
 "nbformat": 4,
 "nbformat_minor": 5
}
